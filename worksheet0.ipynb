{
 "cells": [
  {
   "cell_type": "code",
   "execution_count": null,
   "id": "647c0964-5633-4413-8152-0a6319716caf",
   "metadata": {},
   "outputs": [
    {
     "name": "stdout",
     "output_type": "stream",
     "text": [
      "Hello, World!\n",
      "Python version: 3.13.2 (tags/v3.13.2:4f8bb39, Feb  4 2025, 15:23:48) [MSC v.1942 64 bit (AMD64)]\n"
     ]
    }
   ],
   "source": [
    "import sys\n",
    "\n",
    "# Check Python version\n",
    "if sys.version_info.major == 3 and sys.version_info.minor >= 6:\n",
    "    print(\"Hello, World!\")\n",
    "    print(f\"Python version: {sys.version}\")\n",
    "else:\n",
    "    print(\"Please use Python 3.6 or higher.\")\n",
    "\n"
   ]
  },
  {
   "cell_type": "code",
   "execution_count": null,
   "id": "6b1ec06d-d916-4500-80af-86085934c6d4",
   "metadata": {},
   "outputs": [],
   "source": [
    "4.1 Exercise on Functions:\n",
    "Task - 1:\n"
   ]
  },
  {
   "cell_type": "code",
   "execution_count": null,
   "id": "3d338f5b-c04e-4b84-b9fa-6d54ec044235",
   "metadata": {},
   "outputs": [
    {
     "name": "stdout",
     "output_type": "stream",
     "text": [
      "Unit Converter\n",
      "Choose conversion type: length, weight, volume\n"
     ]
    },
    {
     "name": "stdout",
     "output_type": "stream",
     "text": [
      "Enter conversion type:  length\n",
      "Enter the value to convert:  200\n",
      "Enter the unit you are converting from:  meters\n",
      "Enter the unit you are converting to:  feet\n"
     ]
    },
    {
     "name": "stdout",
     "output_type": "stream",
     "text": [
      "200.0 meters is equal to 656.1680 feet\n"
     ]
    }
   ],
   "source": [
    "def length_conversion(value, from_unit, to_unit):\n",
    "    length_units = {\n",
    "        \"meters\": 1,\n",
    "        \"kilometers\": 0.001,\n",
    "        \"centimeters\": 100,\n",
    "        \"millimeters\": 1000,\n",
    "        \"miles\": 0.000621371,\n",
    "        \"yards\": 1.09361,\n",
    "        \"feet\": 3.28084,\n",
    "        \"inches\": 39.3701\n",
    "    }\n",
    "    \n",
    "    if from_unit not in length_units or to_unit not in length_units:\n",
    "        return None\n",
    "    return value * (length_units[to_unit] / length_units[from_unit])\n",
    "\n",
    "def weight_conversion(value, from_unit, to_unit):\n",
    "    weight_units = {\n",
    "        \"grams\": 1,\n",
    "        \"kilograms\": 0.001,\n",
    "        \"milligrams\": 1000,\n",
    "        \"pounds\": 0.00220462,\n",
    "        \"ounces\": 0.035274\n",
    "    }\n",
    "    \n",
    "    if from_unit not in weight_units or to_unit not in weight_units:\n",
    "        return None\n",
    "    return value * (weight_units[to_unit] / weight_units[from_unit])\n",
    "\n",
    "def volume_conversion(value, from_unit, to_unit):\n",
    "    volume_units = {\n",
    "        \"liters\": 1,\n",
    "        \"milliliters\": 1000,\n",
    "        \"cubic meters\": 0.001,\n",
    "        \"cubic centimeters\": 1000,\n",
    "        \"gallons\": 0.264172,\n",
    "        \"quarts\": 1.05669,\n",
    "        \"pints\": 2.11338,\n",
    "        \"cups\": 4.16667\n",
    "    }\n",
    "    \n",
    "    if from_unit not in volume_units or to_unit not in volume_units:\n",
    "        return None\n",
    "    return value * (volume_units[to_unit] / volume_units[from_unit])\n",
    "\n",
    "def main():\n",
    "    conversion_types = {\n",
    "        \"length\": length_conversion,\n",
    "        \"weight\": weight_conversion,\n",
    "        \"volume\": volume_conversion\n",
    "    }\n",
    "\n",
    "    print(\"Unit Converter\")\n",
    "    print(\"Choose conversion type: length, weight, volume\")\n",
    "    conversion_type = input(\"Enter conversion type: \").strip().lower()\n",
    "\n",
    "    if conversion_type not in conversion_types:\n",
    "        print(\"Invalid conversion type. Please choose from length, weight, or volume.\")\n",
    "        return\n",
    "\n",
    "    try:\n",
    "        value = float(input(\"Enter the value to convert: \"))\n",
    "        from_unit = input(\"Enter the unit you are converting from: \").strip().lower()\n",
    "        to_unit = input(\"Enter the unit you are converting to: \").strip().lower()\n",
    "        \n",
    "        conversion_function = conversion_types[conversion_type]\n",
    "        result = conversion_function(value, from_unit, to_unit)\n",
    "        \n",
    "        if result is None:\n",
    "            print(\"Invalid units. Please enter correct units for conversion.\")\n",
    "        else:\n",
    "            print(f\"{value} {from_unit} is equal to {result:.4f} {to_unit}\")\n",
    "    \n",
    "    except ValueError:\n",
    "        print(\"Invalid input. Please enter a numeric value.\")\n",
    "\n",
    "if __name__ == \"__main__\":\n",
    "    main()\n"
   ]
  },
  {
   "cell_type": "code",
   "execution_count": 4,
   "id": "eb8eb0bb-6f4b-4e9c-9bc1-3d129d2420fd",
   "metadata": {},
   "outputs": [
    {
     "name": "stdout",
     "output_type": "stream",
     "text": [
      "Welcome to the Mathematical Operations Program!\n",
      "Choose an operation:\n",
      "1. sum\n",
      "2. average\n",
      "3. maximum\n",
      "4. minimum\n"
     ]
    },
    {
     "name": "stdout",
     "output_type": "stream",
     "text": [
      "Enter the operation you want to perform (sum, average, maximum, minimum):  sum\n",
      "Enter a list of numbers separated by spaces:  2 3 4\n"
     ]
    },
    {
     "name": "stdout",
     "output_type": "stream",
     "text": [
      "The result of sum is: 9.0\n"
     ]
    }
   ],
   "source": [
    "def perform_operation(numbers, operation):\n",
    "    try:\n",
    "        # Check if the list is empty\n",
    "        if not numbers:\n",
    "            raise ValueError(\"The list cannot be empty.\")\n",
    "        \n",
    "        if operation == 'sum':\n",
    "            return sum(numbers)\n",
    "        elif operation == 'average':\n",
    "            return sum(numbers) / len(numbers)\n",
    "        elif operation == 'maximum':\n",
    "            return max(numbers)\n",
    "        elif operation == 'minimum':\n",
    "            return min(numbers)\n",
    "        else:\n",
    "            raise ValueError(\"Invalid operation selected.\")\n",
    "    except ValueError as e:\n",
    "        return f\"Error: {e}\"\n",
    "\n",
    "def main():\n",
    "    print(\"Welcome to the Mathematical Operations Program!\")\n",
    "    print(\"Choose an operation:\")\n",
    "    print(\"1. sum\")\n",
    "    print(\"2. average\")\n",
    "    print(\"3. maximum\")\n",
    "    print(\"4. minimum\")\n",
    "    \n",
    "    # Get user operation choice\n",
    "    operation_choice = input(\"Enter the operation you want to perform (sum, average, maximum, minimum): \").strip().lower()\n",
    "\n",
    "    # Get the list of numbers\n",
    "    try:\n",
    "        numbers_input = input(\"Enter a list of numbers separated by spaces: \").strip()\n",
    "        \n",
    "        # Convert input into a list of numbers\n",
    "        if numbers_input == \"\":\n",
    "            raise ValueError(\"You must enter at least one number.\")\n",
    "        \n",
    "        numbers = [float(num) for num in numbers_input.split()]\n",
    "        \n",
    "        # Perform the selected operation\n",
    "        result = perform_operation(numbers, operation_choice)\n",
    "        print(f\"The result of {operation_choice} is: {result}\")\n",
    "    \n",
    "    except ValueError as e:\n",
    "        print(f\"Error: {e}\")\n",
    "\n",
    "if __name__ == \"__main__\":\n",
    "    main()\n"
   ]
  },
  {
   "cell_type": "code",
   "execution_count": null,
   "id": "f32264f5-0f8e-41e7-90bf-7a5a47f42946",
   "metadata": {},
   "outputs": [],
   "source": [
    "Task-2\n"
   ]
  },
  {
   "cell_type": "code",
   "execution_count": 101,
   "id": "b360d16a-5ac5-4f73-a4a4-1059eed4fe6c",
   "metadata": {},
   "outputs": [
    {
     "name": "stdout",
     "output_type": "stream",
     "text": [
      "[1, 3, 5]\n"
     ]
    }
   ],
   "source": [
    "\n",
    "def extract_every_other(lst):\n",
    "    return lst[::2]\n",
    "input_list = [1, 2, 3, 4, 5, 6]\n",
    "output = extract_every_other(input_list)\n",
    "print(output)"
   ]
  },
  {
   "cell_type": "code",
   "execution_count": 104,
   "id": "2f321d05-b479-449b-936d-095d4ad6b623",
   "metadata": {},
   "outputs": [
    {
     "name": "stdout",
     "output_type": "stream",
     "text": [
      "[3, 4, 5]\n"
     ]
    }
   ],
   "source": [
    "\n",
    "def get_sublist(lst, start, end):\n",
    "    return lst[start :end+1]\n",
    "    \n",
    "input_list = [1, 2, 3, 4, 5, 6]\n",
    "result = get_sublist(input_list, 2,4)\n",
    "print(result) "
   ]
  },
  {
   "cell_type": "code",
   "execution_count": 58,
   "id": "8c4b4451-d2d9-4734-a273-261e164e6a91",
   "metadata": {},
   "outputs": [
    {
     "name": "stdout",
     "output_type": "stream",
     "text": [
      "[5, 4, 3, 2, 1]\n"
     ]
    }
   ],
   "source": [
    "def reverse_list(lst):\n",
    "    return lst[::-1]  # Slicing with -1 to reverse the list\n",
    "\n",
    "\n",
    "input_list = [ 1,2, 3, 4, 5]\n",
    "result = reverse_list(input_list)\n",
    "print(result)  \n"
   ]
  },
  {
   "cell_type": "code",
   "execution_count": 62,
   "id": "7711907e-9a28-417a-80cc-d9f2dfa7ddba",
   "metadata": {},
   "outputs": [
    {
     "name": "stdout",
     "output_type": "stream",
     "text": [
      "[2, 3, 4]\n"
     ]
    }
   ],
   "source": [
    "def remove_first_last(lst):\n",
    "    return lst[1:-1]  # Slicing to exclude the first and last elements\n",
    "\n",
    "\n",
    "input_list = [1, 2, 3, 4, 5]\n",
    "result = remove_first_last(input_list)\n",
    "print(result)  \n"
   ]
  },
  {
   "cell_type": "code",
   "execution_count": 87,
   "id": "1a30459a-194c-4055-a3f2-7613051ab6d6",
   "metadata": {},
   "outputs": [
    {
     "name": "stdout",
     "output_type": "stream",
     "text": [
      "[1, 2, 3]\n"
     ]
    }
   ],
   "source": [
    "\n",
    "def get_first_n(lst, n):\n",
    "    return lst[:n]\n",
    "input = [1,2,3,4,5]\n",
    "output = get_first_n (input, n=3)\n",
    "print(output)\n",
    "\n",
    "\n"
   ]
  },
  {
   "cell_type": "code",
   "execution_count": 97,
   "id": "090d7c0f-415b-4e01-abca-7e4050b349f4",
   "metadata": {},
   "outputs": [
    {
     "name": "stdout",
     "output_type": "stream",
     "text": [
      "[4, 5]\n"
     ]
    }
   ],
   "source": [
    "def get_last_n(lst, n):\n",
    "    return lst[-n:]\n",
    "\n",
    "input_list = [1, 2, 3, 4, 5]\n",
    "output = get_last_n(input_list, 2)\n",
    "print(output)\n",
    "\n"
   ]
  },
  {
   "cell_type": "code",
   "execution_count": 99,
   "id": "e323654d-e877-4b59-b234-bd4f0c8cf4dd",
   "metadata": {},
   "outputs": [
    {
     "name": "stdout",
     "output_type": "stream",
     "text": [
      "[5, 3, 1]\n"
     ]
    }
   ],
   "source": [
    "\n",
    "def reverse_skip(lst):\n",
    "    return lst[-2::-2]\n",
    "\n",
    "input_list = [1, 2, 3, 4, 5, 6]\n",
    "output = reverse_skip(input_list)\n",
    "print(output)\n"
   ]
  },
  {
   "cell_type": "code",
   "execution_count": null,
   "id": "2fbf9a8f-4201-489e-98b5-53877da34a2c",
   "metadata": {},
   "outputs": [],
   "source": [
    "4.3 Exercise on Nested List:"
   ]
  },
  {
   "cell_type": "code",
   "execution_count": 6,
   "id": "890302b0-5477-40a6-abb6-0c3816a16ed8",
   "metadata": {},
   "outputs": [
    {
     "name": "stdout",
     "output_type": "stream",
     "text": [
      "[1, 2, 3, 4, 5]\n"
     ]
    }
   ],
   "source": [
    "def flatten(lst):\n",
    "    flattened = []\n",
    "    for item in lst:\n",
    "        if isinstance(item, list):\n",
    "            flattened.extend(flatten(item))  # Recursively flatten the nested list\n",
    "        else:\n",
    "            flattened.append(item)  # Add the element to the flattened list\n",
    "    return flattened\n",
    "\n",
    "nested_list = [[1, 2], [3, 4], [5]]\n",
    "flattened_list = flatten(nested_list)\n",
    "print(flattened_list)  \n"
   ]
  },
  {
   "cell_type": "code",
   "execution_count": 7,
   "id": "e53e3b33-6445-4417-955c-89b28a071eab",
   "metadata": {},
   "outputs": [
    {
     "name": "stdout",
     "output_type": "stream",
     "text": [
      "6\n"
     ]
    }
   ],
   "source": [
    "def access_nested_element(lst, indices):\n",
    "    for index in indices:\n",
    "        lst = lst[index]  # Access the element at the current index\n",
    "    return lst\n",
    "\n",
    "nested_list = [[1, 2, 3], [4, 5, 6], [7, 8, 9]]\n",
    "indices = [1, 2]\n",
    "element = access_nested_element(nested_list, indices)\n",
    "print(element) \n"
   ]
  },
  {
   "cell_type": "code",
   "execution_count": 8,
   "id": "09bcd2dc-ec1a-483d-932a-669cff4e904c",
   "metadata": {},
   "outputs": [
    {
     "name": "stdout",
     "output_type": "stream",
     "text": [
      "21\n"
     ]
    }
   ],
   "source": [
    "def sum_nested(lst):\n",
    "    total = 0\n",
    "    for item in lst:\n",
    "        if isinstance(item, list):\n",
    "            total += sum_nested(item)  # Recursively sum the elements of the nested list\n",
    "        else:\n",
    "            total += item  # Add the number to the total sum\n",
    "    return total\n",
    "\n",
    "nested_list = [[1, 2], [3, [4, 5]], 6]\n",
    "total_sum = sum_nested(nested_list)\n",
    "print(total_sum)  \n"
   ]
  },
  {
   "cell_type": "code",
   "execution_count": 11,
   "id": "3aab6947-e2aa-40f2-9e89-302f97d2bf47",
   "metadata": {},
   "outputs": [
    {
     "name": "stdout",
     "output_type": "stream",
     "text": [
      "[[1], [3], [4, 5]]\n"
     ]
    }
   ],
   "source": [
    "def remove_element(lst, elem):\n",
    "    for i in range(len(lst)):\n",
    "        if isinstance(lst[i], list):  # If the element is a sublist, recursively call remove_element\n",
    "            lst[i] = remove_element(lst[i], elem)\n",
    "        else:\n",
    "            if lst[i] == elem:  # Remove the element if it matches\n",
    "                lst[i] = None  # Mark the element for removal by setting it to None\n",
    "    # Remove any `None` values and empty sublists\n",
    "    return [sublist for sublist in lst if sublist != [] and sublist != None]\n",
    "\n",
    "nested_list = [[1, 2], [3, 2], [4, 5]]\n",
    "element_to_remove = 2\n",
    "modified_list = remove_element(nested_list, element_to_remove)\n",
    "print(modified_list) \n",
    "\n",
    "\n"
   ]
  },
  {
   "cell_type": "code",
   "execution_count": 12,
   "id": "d490f9fe-fade-40f1-8e95-236dc4b7fc76",
   "metadata": {},
   "outputs": [
    {
     "name": "stdout",
     "output_type": "stream",
     "text": [
      "6\n"
     ]
    }
   ],
   "source": [
    "def find_max(lst):\n",
    "    max_value = float('-inf')  # Initialize with the smallest possible value\n",
    "    for item in lst:\n",
    "        if isinstance(item, list):\n",
    "            max_value = max(max_value, find_max(item))  # Recursively find max in the nested list\n",
    "        else:\n",
    "            max_value = max(max_value, item)  # Update max_value if a larger element is found\n",
    "    return max_value\n",
    "\n",
    "nested_list = [[1, 2], [3, [4, 5]], 6]\n",
    "max_element = find_max(nested_list)\n",
    "print(max_element)  \n"
   ]
  },
  {
   "cell_type": "code",
   "execution_count": 13,
   "id": "b42366da-e319-4805-9e80-5f002d9a3849",
   "metadata": {},
   "outputs": [
    {
     "name": "stdout",
     "output_type": "stream",
     "text": [
      "3\n"
     ]
    }
   ],
   "source": [
    "def count_occurrences(lst, elem):\n",
    "    count = 0\n",
    "    for item in lst:\n",
    "        if isinstance(item, list):  # If the element is a sublist, recursively call count_occurrences\n",
    "            count += count_occurrences(item, elem)\n",
    "        else:\n",
    "            if item == elem:  # If the element matches, increment the count\n",
    "                count += 1\n",
    "    return count\n",
    "\n",
    "\n",
    "nested_list = [[1, 2], [2, 3], [2, 4]]\n",
    "element_to_count = 2\n",
    "occurrences = count_occurrences(nested_list, element_to_count)\n",
    "print(occurrences)  \n"
   ]
  },
  {
   "cell_type": "code",
   "execution_count": 14,
   "id": "d635f037-c4b7-49dd-83be-e4753072bb79",
   "metadata": {},
   "outputs": [
    {
     "name": "stdout",
     "output_type": "stream",
     "text": [
      "[1, 2, 3, 4, 5, 6, 7, 8]\n"
     ]
    }
   ],
   "source": [
    "def deep_flatten(lst):\n",
    "    flattened = []\n",
    "    for item in lst:\n",
    "        if isinstance(item, list):  # If the item is a list, recursively flatten it\n",
    "            flattened.extend(deep_flatten(item))\n",
    "        else:\n",
    "            flattened.append(item)  # If the item is not a list, add it directly\n",
    "    return flattened\n",
    "\n",
    "\n",
    "nested_list = [[[1, 2], [3, 4]], [[5, 6], [7, 8]]]\n",
    "flattened_list = deep_flatten(nested_list)\n",
    "print(flattened_list)  \n"
   ]
  },
  {
   "cell_type": "code",
   "execution_count": 16,
   "id": "cc152221-692c-493f-9c76-ccf4b411fc3a",
   "metadata": {},
   "outputs": [
    {
     "name": "stdout",
     "output_type": "stream",
     "text": [
      "3.5\n"
     ]
    }
   ],
   "source": [
    "def average_nested(lst):\n",
    "    total = 0\n",
    "    count = 0\n",
    "    \n",
    "    # Flatten the nested list and sum all elements\n",
    "    for item in lst:\n",
    "        if isinstance(item, list):  # If the item is a sublist, recursively call average_nested\n",
    "            sub_total, sub_count = average_nested(item)  # Fix here, calling average_nested to get the sum and count\n",
    "            total += sub_total\n",
    "            count += sub_count\n",
    "        else:\n",
    "            total += item  # Add the item to the total sum\n",
    "            count += 1  # Increment the count for each element\n",
    "    \n",
    "    # Return both total sum and count for calculating average later\n",
    "    return total, count\n",
    "\n",
    "def calculate_average(lst):\n",
    "    total, count = average_nested(lst)\n",
    "    return total / count if count != 0 else 0\n",
    "\n",
    "\n",
    "nested_list = [[1, 2], [3, 4], [5, 6]]\n",
    "average = calculate_average(nested_list)\n",
    "print(average)\n",
    "\n"
   ]
  },
  {
   "cell_type": "code",
   "execution_count": null,
   "id": "1ef78d1b-05d4-4528-8da5-0b0ddbb850e3",
   "metadata": {},
   "outputs": [],
   "source": [
    " NumPy"
   ]
  },
  {
   "cell_type": "code",
   "execution_count": 17,
   "id": "9d412a28-7779-47a2-934e-04369a7be0dd",
   "metadata": {},
   "outputs": [
    {
     "name": "stdout",
     "output_type": "stream",
     "text": [
      "[[None, None], [None, None]]\n",
      "[[0, 0], [0, 0]]\n"
     ]
    }
   ],
   "source": [
    "array_2x2 = [[None, None], [None, None]]\n",
    "array_2x2_zeros = [[0, 0], [0, 0]]\n",
    "\n",
    "print(array_2x2)         \n",
    "print(array_2x2_zeros)   \n"
   ]
  },
  {
   "cell_type": "code",
   "execution_count": 18,
   "id": "613c627d-f215-4d87-aa3c-56c5613ac86b",
   "metadata": {},
   "outputs": [
    {
     "name": "stdout",
     "output_type": "stream",
     "text": [
      "[[1, 1], [1, 1], [1, 1], [1, 1]]\n"
     ]
    }
   ],
   "source": [
    "# Initialize a 4x2 array with all ones using list comprehension\n",
    "array_4x2_ones = [[1 for _ in range(2)] for _ in range(4)]\n",
    "\n",
    "print(array_4x2_ones)  \n"
   ]
  },
  {
   "cell_type": "code",
   "execution_count": 20,
   "id": "20dade4e-16a7-4bc2-99bb-aba3e3b42fc9",
   "metadata": {},
   "outputs": [
    {
     "name": "stdout",
     "output_type": "stream",
     "text": [
      "[[7 7]\n",
      " [7 7]\n",
      " [7 7]\n",
      " [7 7]]\n",
      "[[3.14 3.14 3.14]\n",
      " [3.14 3.14 3.14]\n",
      " [3.14 3.14 3.14]]\n"
     ]
    }
   ],
   "source": [
    "import numpy as np\n",
    "\n",
    "# Create a 4x2 array filled with 7, with integer type\n",
    "array_4x2 = np.full((4, 2), 7, dtype=int)\n",
    "\n",
    "# Create a 3x3 array filled with 3.14, with float type\n",
    "array_3x3 = np.full((3, 3), 3.14, dtype=float)\n",
    "\n",
    "print(array_4x2)\n",
    "\n",
    "\n",
    "print(array_3x3)\n",
    "\n"
   ]
  },
  {
   "cell_type": "code",
   "execution_count": 21,
   "id": "0b938450-34c6-4c71-aed6-149c75135f74",
   "metadata": {},
   "outputs": [
    {
     "name": "stdout",
     "output_type": "stream",
     "text": [
      "[[0 0]\n",
      " [0 0]]\n"
     ]
    }
   ],
   "source": [
    "import numpy as np\n",
    "\n",
    "# Create a sample array\n",
    "original_array = np.array([[1, 2], [3, 4]])\n",
    "\n",
    "# Create a new array of zeros with the same shape and type as original_array\n",
    "zeros_array = np.zeros_like(original_array)\n",
    "\n",
    "print(zeros_array)\n",
    "\n"
   ]
  },
  {
   "cell_type": "code",
   "execution_count": 22,
   "id": "d2ecd722-6602-4335-b2ca-7a94c46bf90d",
   "metadata": {},
   "outputs": [
    {
     "name": "stdout",
     "output_type": "stream",
     "text": [
      "[[1 1]\n",
      " [1 1]]\n"
     ]
    }
   ],
   "source": [
    "import numpy as np\n",
    "\n",
    "# Create a sample array\n",
    "original_array = np.array([[1, 2], [3, 4]])\n",
    "\n",
    "# Create a new array of ones with the same shape and type as original_array\n",
    "ones_array = np.ones_like(original_array)\n",
    "\n",
    "print(ones_array)\n",
    "\n"
   ]
  },
  {
   "cell_type": "code",
   "execution_count": 23,
   "id": "f490141a-e04a-4dca-9eb1-2ab73bdcdae7",
   "metadata": {},
   "outputs": [
    {
     "name": "stdout",
     "output_type": "stream",
     "text": [
      "[1 2 3 4]\n"
     ]
    }
   ],
   "source": [
    "import numpy as np\n",
    "\n",
    "# Existing list\n",
    "new_list = [1, 2, 3, 4]\n",
    "\n",
    "# Convert the list to a NumPy array\n",
    "numpy_array = np.array(new_list)\n",
    "\n",
    "print(numpy_array)\n",
    "\n"
   ]
  },
  {
   "cell_type": "code",
   "execution_count": null,
   "id": "c7de954c-7703-4839-b5d6-33ac22dd78c2",
   "metadata": {},
   "outputs": [],
   "source": [
    "Problem - 2"
   ]
  },
  {
   "cell_type": "code",
   "execution_count": 24,
   "id": "b229785f-cc49-4d12-8d00-150762e44915",
   "metadata": {},
   "outputs": [
    {
     "name": "stdout",
     "output_type": "stream",
     "text": [
      "[10 11 12 13 14 15 16 17 18 19 20 21 22 23 24 25 26 27 28 29 30 31 32 33\n",
      " 34 35 36 37 38 39 40 41 42 43 44 45 46 47 48 49]\n"
     ]
    }
   ],
   "source": [
    "import numpy as np\n",
    "\n",
    "# Create an array with values ranging from 10 to 49\n",
    "array = np.arange(10, 50)\n",
    "\n",
    "print(array)\n"
   ]
  },
  {
   "cell_type": "code",
   "execution_count": 25,
   "id": "023bfa28-4adf-47bd-9bcc-a67d43498245",
   "metadata": {},
   "outputs": [
    {
     "name": "stdout",
     "output_type": "stream",
     "text": [
      "[[0 1 2]\n",
      " [3 4 5]\n",
      " [6 7 8]]\n"
     ]
    }
   ],
   "source": [
    "import numpy as np\n",
    "\n",
    "# Create an array with values ranging from 0 to 8\n",
    "array = np.arange(9)\n",
    "\n",
    "# Reshape the array into a 3x3 matrix\n",
    "matrix = array.reshape(3, 3)\n",
    "\n",
    "print(matrix)\n",
    "\n"
   ]
  },
  {
   "cell_type": "code",
   "execution_count": 26,
   "id": "945dc1d5-f42a-4e4f-a589-cfffac6b26bd",
   "metadata": {},
   "outputs": [
    {
     "name": "stdout",
     "output_type": "stream",
     "text": [
      "[[1. 0. 0.]\n",
      " [0. 1. 0.]\n",
      " [0. 0. 1.]]\n"
     ]
    }
   ],
   "source": [
    "import numpy as np\n",
    "\n",
    "# Create a 3x3 identity matrix\n",
    "identity_matrix = np.eye(3)\n",
    "\n",
    "print(identity_matrix)\n",
    "\n"
   ]
  },
  {
   "cell_type": "code",
   "execution_count": 27,
   "id": "603367d0-2b13-47bb-9a0e-08f6a64d45ae",
   "metadata": {},
   "outputs": [
    {
     "name": "stdout",
     "output_type": "stream",
     "text": [
      "Random Array: [0.33559958 0.69514494 0.56022175 0.82238458 0.4915018  0.0113762\n",
      " 0.87937547 0.09014472 0.2398041  0.36293199 0.95617056 0.95560736\n",
      " 0.90335159 0.92604243 0.44984543 0.11032763 0.53931955 0.91147831\n",
      " 0.09661114 0.73140742 0.69857332 0.1668655  0.77561159 0.99865362\n",
      " 0.13195672 0.63744073 0.52469547 0.13639195 0.52108207 0.59434831]\n",
      "Mean of the array: 0.5418088607546806\n"
     ]
    }
   ],
   "source": [
    "import numpy as np\n",
    "\n",
    "# Create a random array of size 30 with values between 0 and 1\n",
    "random_array = np.random.random(30)\n",
    "\n",
    "# Find the mean of the array\n",
    "mean_value = random_array.mean()\n",
    "\n",
    "print(\"Random Array:\", random_array)\n",
    "print(\"Mean of the array:\", mean_value)\n"
   ]
  },
  {
   "cell_type": "code",
   "execution_count": 28,
   "id": "664ebb63-c902-42ac-aac1-e98515669a8e",
   "metadata": {},
   "outputs": [
    {
     "name": "stdout",
     "output_type": "stream",
     "text": [
      "Random 10x10 Array:\n",
      "[[0.97849634 0.16957003 0.69749651 0.43934516 0.09350802 0.16805609\n",
      "  0.96898382 0.85004673 0.80418736 0.9735456 ]\n",
      " [0.95650666 0.23635539 0.46900482 0.3677992  0.1004135  0.0149707\n",
      "  0.39767488 0.71365404 0.32154518 0.85424078]\n",
      " [0.07841038 0.14644162 0.55671206 0.10873663 0.81387275 0.97287864\n",
      "  0.87190956 0.46515838 0.20036436 0.03026802]\n",
      " [0.91498365 0.90147144 0.39533149 0.88997346 0.24555157 0.03930755\n",
      "  0.6647139  0.55775232 0.1946223  0.77608159]\n",
      " [0.11843391 0.62408212 0.56228761 0.39607387 0.32588894 0.54458075\n",
      "  0.57813001 0.18669995 0.08753797 0.8329205 ]\n",
      " [0.64901492 0.38695983 0.59363276 0.58735892 0.51843579 0.79630535\n",
      "  0.30852223 0.19616535 0.95098812 0.65613385]\n",
      " [0.84368026 0.56301069 0.06030171 0.7547236  0.62810201 0.89678561\n",
      "  0.12631581 0.95668358 0.66340632 0.11723274]\n",
      " [0.75771838 0.3804865  0.78190025 0.64667041 0.74114485 0.62758859\n",
      "  0.10474236 0.84146054 0.04335257 0.83989865]\n",
      " [0.29684986 0.84351097 0.24504282 0.04678758 0.71022367 0.31308614\n",
      "  0.64702479 0.01894201 0.32584289 0.81674863]\n",
      " [0.33297232 0.68642013 0.95045518 0.95452711 0.39543984 0.44749707\n",
      "  0.08796537 0.34737308 0.42397147 0.05492486]]\n",
      "Minimum value: 0.01497070379885701\n",
      "Maximum value: 0.9784963396499792\n"
     ]
    }
   ],
   "source": [
    "import numpy as np\n",
    "\n",
    "# Create a 10x10 array with random values between 0 and 1\n",
    "random_array_10x10 = np.random.random((10, 10))\n",
    "\n",
    "# Find the minimum and maximum values in the array\n",
    "min_value = random_array_10x10.min()\n",
    "max_value = random_array_10x10.max()\n",
    "\n",
    "print(\"Random 10x10 Array:\")\n",
    "print(random_array_10x10)\n",
    "\n",
    "print(\"Minimum value:\", min_value)\n",
    "print(\"Maximum value:\", max_value)\n"
   ]
  },
  {
   "cell_type": "code",
   "execution_count": 29,
   "id": "cf4fd913-716b-46c7-b041-2482a02c04aa",
   "metadata": {},
   "outputs": [
    {
     "name": "stdout",
     "output_type": "stream",
     "text": [
      "[0. 0. 0. 0. 1. 0. 0. 0. 0. 0.]\n"
     ]
    }
   ],
   "source": [
    "import numpy as np\n",
    "\n",
    "# Create a zero array of size 10\n",
    "zero_array = np.zeros(10)\n",
    "\n",
    "# Replace the 5th element (index 4) with 1\n",
    "zero_array[4] = 1\n",
    "\n",
    "print(zero_array)\n"
   ]
  },
  {
   "cell_type": "code",
   "execution_count": 30,
   "id": "1e71d843-a179-4fe2-9318-7ef69ebd4fdb",
   "metadata": {},
   "outputs": [
    {
     "name": "stdout",
     "output_type": "stream",
     "text": [
      "[0 4 0 0 2 1]\n"
     ]
    }
   ],
   "source": [
    "import numpy as np\n",
    "\n",
    "arr = [1, 2, 0, 0, 4, 0]\n",
    "\n",
    "# Reverse the array using np.flip\n",
    "reversed_arr = np.flip(arr)\n",
    "\n",
    "print(reversed_arr)\n",
    "\n"
   ]
  },
  {
   "cell_type": "code",
   "execution_count": 31,
   "id": "97589440-1756-4ba2-8e30-17022f50f92c",
   "metadata": {},
   "outputs": [
    {
     "name": "stdout",
     "output_type": "stream",
     "text": [
      "[[1 1 1 1 1]\n",
      " [1 0 0 0 1]\n",
      " [1 0 0 0 1]\n",
      " [1 0 0 0 1]\n",
      " [1 1 1 1 1]]\n"
     ]
    }
   ],
   "source": [
    "import numpy as np\n",
    "\n",
    "# Define the size of the 2D array (e.g., 5x5)\n",
    "size = 5\n",
    "\n",
    "# Create a 2D array with all elements initialized to 0\n",
    "array = np.zeros((size, size), dtype=int)\n",
    "\n",
    "# Set the border elements to 1\n",
    "array[0, :] = 1  # Top row\n",
    "array[-1, :] = 1  # Bottom row\n",
    "array[:, 0] = 1  # Left column\n",
    "array[:, -1] = 1  # Right column\n",
    "\n",
    "print(array)\n"
   ]
  },
  {
   "cell_type": "code",
   "execution_count": 32,
   "id": "5b6b0012-34ee-4a25-bebe-b0ba50fed523",
   "metadata": {},
   "outputs": [
    {
     "name": "stdout",
     "output_type": "stream",
     "text": [
      "[[0 1 0 1 0 1 0 1]\n",
      " [1 0 1 0 1 0 1 0]\n",
      " [0 1 0 1 0 1 0 1]\n",
      " [1 0 1 0 1 0 1 0]\n",
      " [0 1 0 1 0 1 0 1]\n",
      " [1 0 1 0 1 0 1 0]\n",
      " [0 1 0 1 0 1 0 1]\n",
      " [1 0 1 0 1 0 1 0]]\n"
     ]
    }
   ],
   "source": [
    "import numpy as np\n",
    "\n",
    "# Create an 8x8 matrix\n",
    "size = 8\n",
    "checkerboard = np.zeros((size, size), dtype=int)\n",
    "\n",
    "# Fill the checkerboard pattern (alternating 1s and 0s)\n",
    "checkerboard[1::2, ::2] = 1\n",
    "checkerboard[::2, 1::2] = 1\n",
    "\n",
    "print(checkerboard)\n"
   ]
  },
  {
   "cell_type": "code",
   "execution_count": 33,
   "id": "83486c1e-12a1-4e2c-84e6-794d2bd2b60a",
   "metadata": {},
   "outputs": [
    {
     "name": "stdout",
     "output_type": "stream",
     "text": [
      "[[ 6  8]\n",
      " [10 13]]\n"
     ]
    }
   ],
   "source": [
    "import numpy as np\n",
    "\n",
    "# Given arrays\n",
    "x = np.array([[1, 2], [3, 5]])\n",
    "y = np.array([[5, 6], [7, 8]])\n",
    "\n",
    "# Add the two arrays\n",
    "result_addition = np.add(x, y)\n",
    "\n",
    "print(result_addition)\n"
   ]
  },
  {
   "cell_type": "code",
   "execution_count": 34,
   "id": "959d02f3-431b-4af2-8829-667a2f124d87",
   "metadata": {},
   "outputs": [
    {
     "name": "stdout",
     "output_type": "stream",
     "text": [
      "[[-4 -4]\n",
      " [-4 -3]]\n"
     ]
    }
   ],
   "source": [
    "import numpy as np\n",
    "\n",
    "# Given arrays\n",
    "x = np.array([[1, 2], [3, 5]])\n",
    "y = np.array([[5, 6], [7, 8]])\n",
    "\n",
    "# Subtract the two arrays\n",
    "result_subtraction = np.subtract(x, y)\n",
    "\n",
    "print(result_subtraction)\n"
   ]
  },
  {
   "cell_type": "code",
   "execution_count": 35,
   "id": "cf49040f-dcf8-439c-aeb1-530ba319e98d",
   "metadata": {},
   "outputs": [
    {
     "name": "stdout",
     "output_type": "stream",
     "text": [
      "[[ 3  6]\n",
      " [ 9 15]]\n"
     ]
    }
   ],
   "source": [
    "import numpy as np\n",
    "\n",
    "# Given array\n",
    "x = np.array([[1, 2], [3, 5]])\n",
    "\n",
    "# Multiply the array by an integer (e.g., 3)\n",
    "result_multiplication = x * 3\n",
    "\n",
    "print(result_multiplication)\n"
   ]
  },
  {
   "cell_type": "code",
   "execution_count": 36,
   "id": "5868ffc8-ed02-4053-97c5-41ba26af0938",
   "metadata": {},
   "outputs": [
    {
     "name": "stdout",
     "output_type": "stream",
     "text": [
      "[[ 1  4]\n",
      " [ 9 25]]\n"
     ]
    }
   ],
   "source": [
    "import numpy as np\n",
    "\n",
    "# Given array\n",
    "x = np.array([[1, 2], [3, 5]])\n",
    "\n",
    "# Square each element of the array\n",
    "result_square = np.power(x, 2)\n",
    "\n",
    "print(result_square)\n"
   ]
  },
  {
   "cell_type": "code",
   "execution_count": 37,
   "id": "fef76dec-548b-4b1c-8667-962795617e51",
   "metadata": {},
   "outputs": [
    {
     "name": "stdout",
     "output_type": "stream",
     "text": [
      "Dot product of v and w: 219\n",
      "Dot product of x and v: [29 77]\n",
      "Dot product of x and y: \n",
      "[[19 22]\n",
      " [50 58]]\n"
     ]
    }
   ],
   "source": [
    "import numpy as np\n",
    "\n",
    "# Given arrays\n",
    "v = np.array([9, 10])\n",
    "w = np.array([11, 12])\n",
    "x = np.array([[1, 2], [3, 5]])\n",
    "y = np.array([[5, 6], [7, 8]])\n",
    "\n",
    "# Dot product between v and w\n",
    "dot_vw = np.dot(v, w)\n",
    "print(f\"Dot product of v and w: {dot_vw}\")\n",
    "\n",
    "# Dot product between x and v\n",
    "dot_xv = np.dot(x, v)\n",
    "print(f\"Dot product of x and v: {dot_xv}\")\n",
    "\n",
    "# Dot product between x and y\n",
    "dot_xy = np.dot(x, y)\n",
    "print(f\"Dot product of x and y: \\n{dot_xy}\")\n"
   ]
  },
  {
   "cell_type": "code",
   "execution_count": 38,
   "id": "34c63938-9877-42d7-8a89-03ef5596edf3",
   "metadata": {},
   "outputs": [
    {
     "name": "stdout",
     "output_type": "stream",
     "text": [
      "Concatenated x and y along rows: \n",
      "[[1 2 5 6]\n",
      " [3 5 7 8]]\n",
      "Concatenated v and w along columns: \n",
      "[[ 9]\n",
      " [10]\n",
      " [11]\n",
      " [12]]\n"
     ]
    }
   ],
   "source": [
    "import numpy as np\n",
    "\n",
    "# Given arrays\n",
    "x = np.array([[1, 2], [3, 5]])\n",
    "y = np.array([[5, 6], [7, 8]])\n",
    "v = np.array([9, 10])\n",
    "w = np.array([11, 12])\n",
    "\n",
    "# 1. Concatenate x and y along rows (horizontally)\n",
    "concat_xy_rows = np.concatenate((x, y), axis=1)\n",
    "print(f\"Concatenated x and y along rows: \\n{concat_xy_rows}\")\n",
    "\n",
    "# 2. Concatenate v and w along columns (vertically)\n",
    "# First, reshape v and w to make them 2D arrays (for vertical stacking)\n",
    "v_reshaped = v.reshape(-1, 1)\n",
    "w_reshaped = w.reshape(-1, 1)\n",
    "\n",
    "concat_vw_cols = np.vstack((v_reshaped, w_reshaped))\n",
    "print(f\"Concatenated v and w along columns: \\n{concat_vw_cols}\")\n"
   ]
  },
  {
   "cell_type": "code",
   "execution_count": 40,
   "id": "5cd9cab3-0eec-446d-baa1-32506c554e56",
   "metadata": {},
   "outputs": [
    {
     "name": "stdout",
     "output_type": "stream",
     "text": [
      "[[ 1  2  9]\n",
      " [ 3  5 10]]\n"
     ]
    }
   ],
   "source": [
    "import numpy as np\n",
    "\n",
    "# Given arrays\n",
    "x = np.array([[1, 2], [3, 5]])  # 2x2 matrix\n",
    "v = np.array([9, 10])            # 1D array\n",
    "\n",
    "# Reshape v to make it a 2D array with shape (2, 1)\n",
    "v_reshaped = v.reshape(-1, 1)\n",
    "\n",
    "# Now concatenate x and v_reshaped along rows (axis=1)\n",
    "concat_xv = np.concatenate((x, v_reshaped), axis=1)\n",
    "\n",
    "print(concat_xv)\n",
    "\n"
   ]
  },
  {
   "cell_type": "code",
   "execution_count": null,
   "id": "25cbd79f-9599-4965-8072-2ad04a240c76",
   "metadata": {},
   "outputs": [],
   "source": []
  }
 ],
 "metadata": {
  "kernelspec": {
   "display_name": "Python 3 (ipykernel)",
   "language": "python",
   "name": "python3"
  },
  "language_info": {
   "codemirror_mode": {
    "name": "ipython",
    "version": 3
   },
   "file_extension": ".py",
   "mimetype": "text/x-python",
   "name": "python",
   "nbconvert_exporter": "python",
   "pygments_lexer": "ipython3",
   "version": "3.13.2"
  }
 },
 "nbformat": 4,
 "nbformat_minor": 5
}
